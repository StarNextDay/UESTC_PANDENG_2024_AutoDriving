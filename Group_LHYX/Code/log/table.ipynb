{
 "cells": [
  {
   "cell_type": "code",
   "execution_count": null,
   "metadata": {},
   "outputs": [
    {
     "ename": "",
     "evalue": "",
     "output_type": "error",
     "traceback": [
      "\u001b[1;31mRunning cells with 'multi' requires the ipykernel package.\n",
      "\u001b[1;31mRun the following command to install 'ipykernel' into the Python environment. \n",
      "\u001b[1;31mCommand: 'conda install -n multi ipykernel --update-deps --force-reinstall'"
     ]
    }
   ],
   "source": [
    "import torch"
   ]
  },
  {
   "cell_type": "code",
   "execution_count": null,
   "metadata": {},
   "outputs": [],
   "source": [
    "# 500 epochs\n",
    "\n",
    "b1 = [[0.914, 0.9, 0.842, 0.751], [0.938, 0.833, 0.766, 0.751], [0.952, 0.947, 0.833, 0.895], [0.885, 0.943, 0.866, 0.847], [0.938, 0.822, 0.659, 0.74]]\n",
    "b2 = [[0.904, 0.957, 0.885, 0.823], [0.833, 0.919, 0.856, 0.914], [0.952, 0.923, 0.904, 0.861], [0.981, 0.909, 0.833, 0.895], [0.856, 0.942, 0.822, 0.817]]\n",
    "b3 = [[0.962, 0.976, 0.981, 0.9], [0.904, 0.99, 0.818, 0.871], [0.962, 0.861, 0.89, 0.914], [0.947, 0.947, 0.99, 0.928], [0.986, 0.981, 0.957, 0.928]]\n",
    "a1 = [[0.957, 0.89, 0.986, 0.871], [0.986, 0.861, 0.923, 0.833], [0.99, 0.99, 0.986, 0.88], [0.986, 0.943, 0.99, 0.923], [0.971, 0.947, 0.928, 0.899]]\n",
    "our = [[0.99, 1.0, 0.981, 0.943], [0.957, 0.952, 0.99, 0.828], [0.957, 0.976, 0.986, 0.904], [0.971, 0.967, 0.99, 0.923], [0.99, 0.966, 0.986, 0.938]]\n",
    "\n",
    "for x in [b1, b2, b3, a1, our]:\n",
    "\n",
    "    mean_acc = torch.mean(x, dim=-1)\n",
    "    print(mean_acc)"
   ]
  }
 ],
 "metadata": {
  "kernelspec": {
   "display_name": "multi",
   "language": "python",
   "name": "python3"
  },
  "language_info": {
   "name": "python",
   "version": "3.8.19"
  }
 },
 "nbformat": 4,
 "nbformat_minor": 2
}
